{
 "cells": [
  {
   "cell_type": "code",
   "execution_count": null,
   "metadata": {},
   "outputs": [],
   "source": [
    "import regex as re\n"
   ]
  },
  {
   "cell_type": "code",
   "execution_count": null,
   "metadata": {},
   "outputs": [],
   "source": [
    "html = \"<span><h1>hello</h1></span>\"\n",
    "p = re.findall(r'<span><h1>(.*?)</h1></span>',str(html))"
   ]
  },
  {
   "cell_type": "code",
   "execution_count": null,
   "metadata": {},
   "outputs": [],
   "source": [
    "p\n"
   ]
  },
  {
   "cell_type": "code",
   "execution_count": null,
   "metadata": {},
   "outputs": [],
   "source": [
    "import re\n",
    "try:\n",
    "    from HTMLParser import HTMLParser  # python 2\n",
    "except ImportError:\n",
    "    from html.parser import HTMLParser  # python 3\n",
    "\n",
    "\n",
    "class HTMLStripperParser(HTMLParser):\n",
    "    \"\"\"Simple, stupid parser to remove all HTML tags from\n",
    "    a document. The point is to just get a the data.\n",
    "    >>> parser = HTMLStripperParser()\n",
    "    >>> parser.feed(string_with_html)\n",
    "    >>> parser.get_content()\n",
    "    \"\"\"\n",
    "\n",
    "    def get_content(self):\n",
    "        \"Ignores all consecutive whitespace\"\n",
    "        return re.sub(\"\\s+\", \" \", self.content)\n",
    "\n",
    "    def handle_data(self, data):\n",
    "        if hasattr(self, 'content'):\n",
    "            self.content += data\n",
    "        else:\n",
    "            self.content = data\n",
    "parser = HTMLStripperParser()\n",
    "parser.feed('''<div class=\"row result clickcard\" id=\"p_ef14a369b7eb40de\" data-jk=\"ef14a369b7eb40de\" data-tn-component=\"organicJob\" data-tu=\"\"><h2 id=\"jl_ef14a369b7eb40de\" class=\"jobtitle\"><a href=\"/rc/clk?jk=ef14a369b7eb40de&amp;fccid=01e93d5078505c2e&amp;vjs=3\" target=\"_blank\" rel=\"noopener nofollow\" onmousedown=\"return rclk(this,jobmap[0],0);\" onclick=\"setRefineByCookie([]); return rclk(this,jobmap[0],true,0);\" title=\"Machine Learning Developer Mumbai\" class=\"turnstileLink\" data-tn-element=\"jobTitle\"><b>Machine</b> <b>Learning</b> Developer Mumbai</a></h2><span class=\"company\">talent leads hr solutions</span>- <span class=\"location\">Mumbai, Maharashtra</span><table cellspacing=\"0\" cellpadding=\"0\" border=\"0\"><tbody><tr><td class=\"snip\">Developer. Experience in <div class=\"\"><span class=\"summary\"><b>Machine</b> <b>Learning</b><b>Machine</b><b>Learning</b> Data/Text Mining, NLP, Decision Trees, Adaptive Decision Algorithms, Search Algorithms, Neural... </span></div><div class=\"result-link-bar-container\"><div class=\"result-link-bar\"><span class=\"date\">30+ days ago</span> <span id=\"tt_set_0\" class=\"tt_set\">  -  <a id=\"sj_ef14a369b7eb40de\" href=\"#\" class=\"sl resultLink save-job-link \" onclick=\"changeJobState('ef14a369b7eb40de', 'save', 'linkbar', false, ''); return false;\" title=\"Save this job to my.indeed\">save job</a> - <a href=\"#\" id=\"tog_0\" class=\"sl resultLink more-link \" onclick=\"toggleMoreLinks('ef14a369b7eb40de'); return false;\">more...</a></span><div id=\"editsaved2_ef14a369b7eb40de\" class=\"edit_note_content\" style=\"display:none;\"></div><script>if (!window['result_ef14a369b7eb40de']) {window['result_ef14a369b7eb40de'] = {};}window['result_ef14a369b7eb40de']['showSource'] = false; window['result_ef14a369b7eb40de']['source'] = \"Talent Leads HR Solutions\"; window['result_ef14a369b7eb40de']['loggedIn'] = false; window['result_ef14a369b7eb40de']['showMyJobsLinks'] = false;window['result_ef14a369b7eb40de']['undoAction'] = \"unsave\";window['result_ef14a369b7eb40de']['relativeJobAge'] = \"30+ days ago\";window['result_ef14a369b7eb40de']['jobKey'] = \"ef14a369b7eb40de\"; window['result_ef14a369b7eb40de']['myIndeedAvailable'] = true; window['result_ef14a369b7eb40de']['showMoreActionsLink'] = window['result_ef14a369b7eb40de']['showMoreActionsLink'] || true; window['result_ef14a369b7eb40de']['resultNumber'] = 0; window['result_ef14a369b7eb40de']['jobStateChangedToSaved'] = false; window['result_ef14a369b7eb40de']['searchState'] = \"q=Machine Learning&amp;l=Mumbai%2C+Maharashtra\"; window['result_ef14a369b7eb40de']['basicPermaLink'] = \"https://www.indeed.co.in\"; window['result_ef14a369b7eb40de']['saveJobFailed'] = false; window['result_ef14a369b7eb40de']['removeJobFailed'] = false; window['result_ef14a369b7eb40de']['requestPending'] = false; window['result_ef14a369b7eb40de']['notesEnabled'] = true; window['result_ef14a369b7eb40de']['currentPage'] = \"serp\"; window['result_ef14a369b7eb40de']['sponsored'] = false;window['result_ef14a369b7eb40de']['reportJobButtonEnabled'] = false; window['result_ef14a369b7eb40de']['showMyJobsHired'] = false; window['result_ef14a369b7eb40de']['showSaveForSponsored'] = false; window['result_ef14a369b7eb40de']['showJobAge'] = true;</script></div></div><div class=\"tab-container\"><div id=\"tt_display_0\" class=\"more-links-container result-tab\" style=\"display:none;\"><a class=\"close-link closeLink\" title=\"Close\" href=\"#\" onclick=\"toggleMoreLinks('ef14a369b7eb40de'); return false;\"></a><div id=\"more_0\" class=\"more_actions\"><ul><li><span class=\"mat\">View all <a href=\"/Talent-Leads-HR-Solutions-jobs\" rel=\"nofollow\">talent leads hr solutions jobs</a> - <a href=\"/jobs-in-Mumbai,-Maharashtra\">Mumbai jobs</a></span></li><li><span class=\"mat\">Salary Search: <a href=\"/salaries/Machine-Learning-Engineer-Salaries,-Mumbai-MH\" onmousedown=\"this.href = appendParamsOnce(this.href, '?campaignid=serp-more&amp;fromjk=ef14a369b7eb40de&amp;from=serp-more');\">Machine Learning Engineer salaries in Mumbai, Maharashtra</a></span></li></ul></div></div><div class=\"dya-container result-tab\"></div><div class=\"tellafriend-container result-tab email_job_content\"></div><div class=\"sign-in-container result-tab\"></div><div class=\"notes-container result-tab\"></div></div></td></tr></tbody></table></div>''')\n",
    "parser.get_content()"
   ]
  },
  {
   "cell_type": "code",
   "execution_count": null,
   "metadata": {},
   "outputs": [],
   "source": [
    "rex = re.compile(r'<div class=\"row result clickcard\" id=\"p_ef14a369b7eb40de\" data-jk=\"ef14a369b7eb40de\" data-tn-component=\"organicJob\" data-tu=\"\"><h2 id=\"jl_ef14a369b7eb40de\" class=\"jobtitle\"><a><b>(.*?)</b><b>(.*?)</b></a><h2><span.*?></span><span></span><table><tbody><tr><td><div><span><b></b><b></b><b></b><b></b></span></div></div>',re.S|re.M)\n",
    "match = rex.match('''<div class=\"row result clickcard\" id=\"p_ef14a369b7eb40de\" data-jk=\"ef14a369b7eb40de\" data-tn-component=\"organicJob\" data-tu=\"\"><h2 id=\"jl_ef14a369b7eb40de\" class=\"jobtitle\"><a href=\"/rc/clk?jk=ef14a369b7eb40de&amp;fccid=01e93d5078505c2e&amp;vjs=3\" target=\"_blank\" rel=\"noopener nofollow\" onmousedown=\"return rclk(this,jobmap[0],0);\" onclick=\"setRefineByCookie([]); return rclk(this,jobmap[0],true,0);\" title=\"Machine Learning Developer Mumbai\" class=\"turnstileLink\" data-tn-element=\"jobTitle\"><b>Machine</b> <b>Learning</b> Developer Mumbai</a></h2><span class=\"company\">talent leads hr solutions</span>- <span class=\"location\">Mumbai, Maharashtra</span><table cellspacing=\"0\" cellpadding=\"0\" border=\"0\"><tbody><tr><td class=\"snip\">Developer. Experience in <div class=\"\"><span class=\"summary\"><b>Machine</b> <b>Learning</b><b>Machine</b><b>Learning</b> Data/Text Mining, NLP, Decision Trees, Adaptive Decision Algorithms, Search Algorithms, Neural... </span></div><div class=\"result-link-bar-container\"><div class=\"result-link-bar\"><span class=\"date\">30+ days ago</span> <span id=\"tt_set_0\" class=\"tt_set\">  -  <a id=\"sj_ef14a369b7eb40de\" href=\"#\" class=\"sl resultLink save-job-link \" onclick=\"changeJobState('ef14a369b7eb40de', 'save', 'linkbar', false, ''); return false;\" title=\"Save this job to my.indeed\">save job</a> - <a href=\"#\" id=\"tog_0\" class=\"sl resultLink more-link \" onclick=\"toggleMoreLinks('ef14a369b7eb40de'); return false;\">more...</a></span><div id=\"editsaved2_ef14a369b7eb40de\" class=\"edit_note_content\" style=\"display:none;\"></div><script>if (!window['result_ef14a369b7eb40de']) {window['result_ef14a369b7eb40de'] = {};}window['result_ef14a369b7eb40de']['showSource'] = false; window['result_ef14a369b7eb40de']['source'] = \"Talent Leads HR Solutions\"; window['result_ef14a369b7eb40de']['loggedIn'] = false; window['result_ef14a369b7eb40de']['showMyJobsLinks'] = false;window['result_ef14a369b7eb40de']['undoAction'] = \"unsave\";window['result_ef14a369b7eb40de']['relativeJobAge'] = \"30+ days ago\";window['result_ef14a369b7eb40de']['jobKey'] = \"ef14a369b7eb40de\"; window['result_ef14a369b7eb40de']['myIndeedAvailable'] = true; window['result_ef14a369b7eb40de']['showMoreActionsLink'] = window['result_ef14a369b7eb40de']['showMoreActionsLink'] || true; window['result_ef14a369b7eb40de']['resultNumber'] = 0; window['result_ef14a369b7eb40de']['jobStateChangedToSaved'] = false; window['result_ef14a369b7eb40de']['searchState'] = \"q=Machine Learning&amp;l=Mumbai%2C+Maharashtra\"; window['result_ef14a369b7eb40de']['basicPermaLink'] = \"https://www.indeed.co.in\"; window['result_ef14a369b7eb40de']['saveJobFailed'] = false; window['result_ef14a369b7eb40de']['removeJobFailed'] = false; window['result_ef14a369b7eb40de']['requestPending'] = false; window['result_ef14a369b7eb40de']['notesEnabled'] = true; window['result_ef14a369b7eb40de']['currentPage'] = \"serp\"; window['result_ef14a369b7eb40de']['sponsored'] = false;window['result_ef14a369b7eb40de']['reportJobButtonEnabled'] = false; window['result_ef14a369b7eb40de']['showMyJobsHired'] = false; window['result_ef14a369b7eb40de']['showSaveForSponsored'] = false; window['result_ef14a369b7eb40de']['showJobAge'] = true;</script></div></div><div class=\"tab-container\"><div id=\"tt_display_0\" class=\"more-links-container result-tab\" style=\"display:none;\"><a class=\"close-link closeLink\" title=\"Close\" href=\"#\" onclick=\"toggleMoreLinks('ef14a369b7eb40de'); return false;\"></a><div id=\"more_0\" class=\"more_actions\"><ul><li><span class=\"mat\">View all <a href=\"/Talent-Leads-HR-Solutions-jobs\" rel=\"nofollow\">talent leads hr solutions jobs</a> - <a href=\"/jobs-in-Mumbai,-Maharashtra\">Mumbai jobs</a></span></li><li><span class=\"mat\">Salary Search: <a href=\"/salaries/Machine-Learning-Engineer-Salaries,-Mumbai-MH\" onmousedown=\"this.href = appendParamsOnce(this.href, '?campaignid=serp-more&amp;fromjk=ef14a369b7eb40de&amp;from=serp-more');\">Machine Learning Engineer salaries in Mumbai, Maharashtra</a></span></li></ul></div></div><div class=\"dya-container result-tab\"></div><div class=\"tellafriend-container result-tab email_job_content\"></div><div class=\"sign-in-container result-tab\"></div><div class=\"notes-container result-tab\"></div></div></td></tr></tbody></table></div>''')\n",
    "if match:\n",
    "    text = match.groups()[1].strip()"
   ]
  },
  {
   "cell_type": "code",
   "execution_count": null,
   "metadata": {},
   "outputs": [],
   "source": [
    "text\n"
   ]
  },
  {
   "cell_type": "code",
   "execution_count": null,
   "metadata": {},
   "outputs": [],
   "source": [
    "html = '''<html><body><div class=\"ABC\"><h1>hello</h1><p>how r u ?<b>bold</b></p></div><div class=\"MNP\"><p>my name is bhumil</p><span>hmm...</span></div></body></html>'''"
   ]
  },
  {
   "cell_type": "code",
   "execution_count": null,
   "metadata": {},
   "outputs": [],
   "source": [
    "result = ''\n",
    "test_run = re.compile(r'<html><body><div class=\"ABC\">(.*?)</div></body></html>',re.S|re.M)\n",
    "test_match = test_run.match(html)\n",
    "if match:\n",
    "    result = match.groups()[2].strip()"
   ]
  },
  {
   "cell_type": "code",
   "execution_count": null,
   "metadata": {},
   "outputs": [],
   "source": [
    "result"
   ]
  },
  {
   "cell_type": "code",
   "execution_count": null,
   "metadata": {},
   "outputs": [],
   "source": [
    "#m =re.findall(r'<div class=\"ABC\">(.*?)</div>',str(html))\n",
    "n = re.findall(r'<b>(.*?)</b>',str(html))"
   ]
  },
  {
   "cell_type": "code",
   "execution_count": null,
   "metadata": {},
   "outputs": [],
   "source": [
    "m\n",
    "n"
   ]
  },
  {
   "cell_type": "code",
   "execution_count": null,
   "metadata": {},
   "outputs": [],
   "source": [
    "from bs4 import BeautifulSoup"
   ]
  },
  {
   "cell_type": "code",
   "execution_count": null,
   "metadata": {},
   "outputs": [],
   "source": [
    "import requests\n",
    "import regex as re\n",
    "page = requests.get('https://www.naukri.com/machine-learning-jobs')\n",
    "def clean(html_string):\n",
    "    cleanr = re.compile('<.*?>')\n",
    "    cleantext = re.sub(cleanr,'',str(html_string)).strip()\n",
    "    return cleantext"
   ]
  },
  {
   "cell_type": "code",
   "execution_count": null,
   "metadata": {},
   "outputs": [],
   "source": [
    "page"
   ]
  },
  {
   "cell_type": "code",
   "execution_count": null,
   "metadata": {},
   "outputs": [],
   "source": [
    "soup = BeautifulSoup(page.text, 'html.parser')"
   ]
  },
  {
   "cell_type": "code",
   "execution_count": null,
   "metadata": {
    "scrolled": true
   },
   "outputs": [],
   "source": [
    "id_list=[]\n",
    "list = soup.find_all(attrs={\"class\":\"desig\",\"itemprop\":\"title\"})\n",
    "skills = soup.find_all(attrs={\"class\":\"skill\",\"itemprop\":\"skills\"})\n",
    "desc = soup.find_all(attrs={\"class\":\"desc\",\"itemprop\":\"description\"})\n",
    "company_name = soup.find_all(attrs={\"class\":\"org\",\"itemprop\":\"hiringOrganization\"})\n",
    "exp = soup.find_all(attrs={\"class\":\"exp\",\"itemprop\":\"experienceRequirements\"})\n",
    "location = soup.find_all(attrs={\"itemprop\":\"jobLocation\"})\n",
    "for tag in soup.find_all(attrs={\"class\":\"content\",\"count\":\"4\"}):\n",
    "    id_list.append(tag.get('href'))\n",
    "c_name = clean(company_name[2])\n",
    "loc = clean(location[2])\n",
    "experience = clean(exp[2]).strip(' yrs')\n",
    "print(id_list)"
   ]
  },
  {
   "cell_type": "code",
   "execution_count": null,
   "metadata": {
    "scrolled": true
   },
   "outputs": [],
   "source": [
    "from nltk import tokenize\n",
    "url = ''\n",
    "print(\"job:\"+clean(list[3]))\n",
    "print(\"company\"+clean(company_name[3]))\n",
    "#print(\"job description-\"+clean(desc[2]))\n",
    "desc_url = id_list[0]\n",
    "description_page = requests.get(desc_url)\n",
    "desc_soup = BeautifulSoup(description_page.text,'html5lib')\n",
    "description = desc_soup.find_all(\"ul\",{\"class\":\"listing mt10 wb\",\"itemprop\":\"description\"})\n",
    "description = clean(description)    \n",
    "description = tokenize.sent_tokenize(description)\n",
    "str(description).strip('[')\n",
    "print(description[0],description[1],description[2])\n",
    "print(\"skills-\"+clean(skills[3]))\n",
    "print(\"location-\"+clean(location[3]))\n",
    "print(\"Work Experience-\"+clean(exp[3]))\n",
    "print(\"For More Details-\"+id_list[0])"
   ]
  },
  {
   "cell_type": "code",
   "execution_count": null,
   "metadata": {
    "scrolled": true
   },
   "outputs": [],
   "source": [
    "import regex as re\n",
    "from nltk import tokenize\n",
    "import requests\n",
    "import sys\n",
    "url_list = []\n",
    "shine = requests.get('https://www.shine.com/job-search/machine-learning-jobs')\n",
    "soup2 = BeautifulSoup(shine.text, 'html5lib')\n",
    "shine_title = soup2.find_all('strong')\n",
    "c_name = soup2.find_all(\"li\",{\"class\":\"snp_cnm cls_cmpname cls_jobcompany\"})\n",
    "shine_exp = soup2.find_all(\"span\",{\"class\":\"snp_yoe cls_jobexperience\"})\n",
    "shine_loc = soup2.find_all(\"em\",{\"class\":\"snp_loc cls_joblocation\"})\n",
    "for tag in soup2.find_all(\"a\",{\"class\":\"cls_searchresult_a\"}):\n",
    "    url_list.append(tag.get('href'))\n",
    "shine_desc = soup2.find_all(\"li\",{\"class\":\"srcresult\"})\n",
    "desc = requests.get('https://www.shine.com'+url_list[4])\n",
    "desc = BeautifulSoup(desc.text,'html5lib')\n",
    "description = desc.find_all(\"span\",{\"itemprop\":\"description\"})\n",
    "shine_skills = soup2.find_all(\"i\",{\"class\":\"sk jsrp cls_jobskill\"})\n",
    "# print(clean(c_name[4]))\n",
    "# print(clean(shine_title[7]))\n",
    "description = tokenize.sent_tokenize(str(description))\n",
    "print(description[0])\n",
    "description_cleaned = str(clean(description))\n",
    "list_desc = []\n",
    "length = len(description_cleaned)\n",
    "i,j=0,0\n",
    "for k in range(2):\n",
    "    while i<length-1:\n",
    "        if description_cleaned[i] == \"\\\\\":\n",
    "            if description_cleaned[i+1]==\"n\":\n",
    "                list_desc.append(description_cleaned[j:i])\n",
    "                j=i\n",
    "        i=i+1\n",
    "print(list_desc[0].strip(\"[\").strip(\"\\'\").strip('['),list_desc[1].replace('\\\\n','.'))\n",
    "# if description_cleaned.find(\"\\n\")!=-1:\n",
    "#     print(\"hello\")\n",
    "#     print(description_cleaned[0:str(description_cleaned).find(\"\\n\")])\n",
    "    \n",
    "# if description[0].find(\"           \"):\n",
    "#     print(description[0][0:str(description).find(\"        \")])\n",
    "# for i in range(500):\n",
    "#     sys.stdout.write(description_cleaned[i])\n",
    "# sys.stdout.write(\"...........\")\n",
    "# print(\"\\n\")\n",
    "# print(\"------------------------------------\")\n",
    "# cleantext = clean(shine_skills[4])\n",
    "# print(cleantext.replace(' ','').replace('\\n',' '))\n",
    "# print(clean(shine_exp[4]))\n",
    "# print(clean(shine_loc[4]))\n",
    "# print('https://www.shine.com'+url_list[4])"
   ]
  },
  {
   "cell_type": "code",
   "execution_count": null,
   "metadata": {},
   "outputs": [],
   "source": [
    "from threading import _start_new_thread\n",
    "\n",
    "threadId = 1\n",
    "\n",
    "def factorial(n):\n",
    "    global threadId\n",
    "    if n < 1:   # base case\n",
    "        print(\"Thread-\"+str(threadId))\n",
    "        threadId += 1\n",
    "        return 1\n",
    "    else:\n",
    "        returnNumber = n * factorial( n - 1 )  # recursive call\n",
    "        print(returnNumber)\n",
    "        return returnNumber\n",
    "\n",
    "_start_new_thread(factorial,(5, ))\n",
    "_start_new_thread(factorial,(4, ))\n",
    "\n",
    "c = input(\"Waiting for threads to return...\\n\")"
   ]
  },
  {
   "cell_type": "code",
   "execution_count": null,
   "metadata": {},
   "outputs": [],
   "source": [
    "import threading\n",
    "import time\n",
    "import inspect\n",
    "\n",
    "class Thread(threading.Thread):\n",
    "    def __init__(self, t, *args):\n",
    "        threading.Thread.__init__(self, target=t, args=args)\n",
    "        self.start()\n",
    "\n",
    "count = 0\n",
    "lock = threading.Lock()\n",
    "\n",
    "def incre():\n",
    "    global count\n",
    "    caller = inspect.getouterframes(inspect.currentframe())[1][3]\n",
    "    print(\"Inside\"+caller)\n",
    "    print(\"Acquiring lock\")\n",
    "    with lock:\n",
    "        print(\"Lock Acquired\")\n",
    "        count += 1  \n",
    "        time.sleep(2)  \n",
    "\n",
    "def bye():\n",
    "    while count < 5:\n",
    "        incre()\n",
    "\n",
    "def hello_there():\n",
    "    while count < 5:\n",
    "        incre()\n",
    "\n",
    "def main():    \n",
    "    hello = Thread(hello_there)\n",
    "    goodbye = Thread(bye)\n",
    "\n",
    "\n",
    "if __name__ == '__main__':\n",
    "    main()"
   ]
  },
  {
   "cell_type": "code",
   "execution_count": null,
   "metadata": {},
   "outputs": [],
   "source": [
    "import tkinter as tk\n",
    "\n",
    "class App:\n",
    "    def __init__(self):\n",
    "        self.root=tk.Tk()\n",
    "        self.vsb = tk.Scrollbar(orient=\"vertical\", command=self.OnVsb)\n",
    "        self.lb1 = tk.Listbox(self.root, yscrollcommand=self.vsb.set)\n",
    "        self.lb2 = tk.Listbox(self.root, yscrollcommand=self.vsb.set)\n",
    "        self.vsb.pack(side=\"right\",fill=\"y\")\n",
    "        self.lb1.pack(side=\"left\",fill=\"x\", expand=True)\n",
    "        self.lb2.pack(side=\"left\",fill=\"x\", expand=True)\n",
    "        self.lb1.bind(\"<MouseWheel>\", self.OnMouseWheel)\n",
    "        self.lb2.bind(\"<MouseWheel>\", self.OnMouseWheel)\n",
    "        for i in range(100):\n",
    "            self.lb1.insert(\"end\",\"item %s\" % i)\n",
    "            self.lb2.insert(\"end\",\"item %s\" % i)\n",
    "        self.root.mainloop()\n",
    "\n",
    "    def OnVsb(self, *args):\n",
    "        self.lb1.yview(*args)\n",
    "        self.lb2.yview(*args)\n",
    "\n",
    "    def OnMouseWheel(self, event):\n",
    "        self.lb1.yview(\"scroll\", event.delta,\"units\")\n",
    "        self.lb2.yview(\"scroll\",event.delta,\"units\")\n",
    "        # this prevents default bindings from firing, which\n",
    "        # would end up scrolling the widget twice\n",
    "        return \"break\"\n",
    "\n",
    "app=App()"
   ]
  },
  {
   "cell_type": "code",
   "execution_count": null,
   "metadata": {},
   "outputs": [],
   "source": [
    "import tkinter as tk\n",
    "\n",
    "class Example(tk.Frame):\n",
    "    def __init__(self, root):\n",
    "\n",
    "        tk.Frame.__init__(self, root)\n",
    "        self.canvas = tk.Canvas(root, borderwidth=0, background=\"#ffffff\")\n",
    "        self.frame = tk.Frame(self.canvas, background=\"#ffffff\")\n",
    "        self.vsb = tk.Scrollbar(root, orient=\"vertical\", command=self.canvas.yview)\n",
    "        self.canvas.configure(yscrollcommand=self.vsb.set)\n",
    "\n",
    "        self.vsb.pack(side=\"right\", fill=\"y\")\n",
    "        self.canvas.pack(side=\"left\", fill=\"both\", expand=True)\n",
    "        self.canvas.create_window((4,4), window=self.frame, anchor=\"nw\", \n",
    "                                  tags=\"self.frame\")\n",
    "\n",
    "        self.frame.bind(\"<Configure>\", self.onFrameConfigure)\n",
    "\n",
    "        self.populate()\n",
    "\n",
    "    def populate(self):\n",
    "        '''Put in some fake data'''\n",
    "        for row in range(100):\n",
    "            tk.Label(self.frame, text=\"%s\" % row, width=3, borderwidth=\"1\", \n",
    "                     relief=\"solid\").grid(row=row, column=0)\n",
    "            t=\"this is the second column for row %s\" %row\n",
    "            tk.Label(self.frame, text=t).grid(row=row, column=1)\n",
    "\n",
    "    def onFrameConfigure(self, event):\n",
    "        '''Reset the scroll region to encompass the inner frame'''\n",
    "        self.canvas.configure(scrollregion=self.canvas.bbox(\"all\"))\n",
    "\n",
    "if __name__ == \"__main__\":\n",
    "    root=tk.Tk()\n",
    "    Example(root).pack(side=\"top\", fill=\"both\", expand=True)\n",
    "    root.mainloop()"
   ]
  },
  {
   "cell_type": "code",
   "execution_count": null,
   "metadata": {},
   "outputs": [],
   "source": [
    "import tkinter as tk\n",
    "\n",
    "def newframe(root):\n",
    "    r.destroy()\n",
    "    b.destroy()\n",
    "    def populate(frame):\n",
    "        '''Put in some fake data'''\n",
    "        row=1\n",
    "        def dbclick(event):\n",
    "            widget = event.widget\n",
    "            selection=widget.curselection()\n",
    "            picked = widget.get(selection)\n",
    "\n",
    "        while(row<20):\n",
    "    #         tk.Label(frame, text=\"%s\" % row, width=3, borderwidth=\"1\", \n",
    "    #                  relief=\"solid\").grid(row=row, column=0)\n",
    "    #         t=\"this is the second column for row %s\" %row\n",
    "    #         tk.Label(frame, text=t).grid(row=row, column=1)\n",
    "            scrollbar = tk.Scrollbar(frame,orient=tk.HORIZONTAL)\n",
    "            list = tk.Listbox(frame,width=\"80\",height=\"10\",background=\"#F0F3F4\",bd=\"4\",relief=\"groove\")\n",
    "            list.insert(1,\"companbbbbbbbbbbbbbbbbbbbbbbbbbbbbbbbbbbbbbbbbbbbbbbbbbbbbbbbbbbbbbbbbbbbbbbbbbbbbbbbbbbbbbbbbbbbbbbbbbbbbbbbbbbbbbbbbbbbbbbbbbbbbbbbbbbbbbbbbbbbbbbbbbbbby name\")\n",
    "            list.insert(2,\"\")\n",
    "            list.insert(3,\"job nakcasjslkdlgnlllllllllllllllllllllllllllllllllllllllllllllllllllllllame\")\n",
    "            list.insert(4,\"\")\n",
    "            list.insert(5,\"skillsdlaaaaaaaaaaaaaa0000000000000000000000000000000000000000000000000000000000000000000000000000000000000000000000000000000000000000000aaaaaaaaaaaaaas\")\n",
    "            list.insert(6,\"\")\n",
    "            list.insert(7,\"\")\n",
    "            list.grid(row=row,column=0)\n",
    "            list.bind('<<ListboxSelect>>', dbclick)\n",
    "            scrollbar.config(command=list.xview)\n",
    "            scrollbar.grid(row=row+1,column=0,sticky=tk.W+tk.E)\n",
    "            list.config(xscrollcommand=scrollbar.set)\n",
    "            frame.grid_rowconfigure(row+2, minsize=20)\n",
    "            row = row + 3\n",
    "\n",
    "\n",
    "    def onFrameConfigure(canvas):\n",
    "        '''Reset the scroll region to encompass the inner frame'''\n",
    "        canvas.configure(scrollregion=canvas.bbox(\"all\"))\n",
    "\n",
    "    canvas = tk.Canvas(root, borderwidth=0, background=\"#A9CCE3\")\n",
    "    frame = tk.Frame(canvas, background=\"#A9CCE3\",padx=300,pady=20)\n",
    "    vsb = tk.Scrollbar(root, orient=\"vertical\", command=canvas.yview)\n",
    "    canvas.configure(yscrollcommand=vsb.set)\n",
    "\n",
    "    vsb.pack(side=\"right\", fill=\"y\")\n",
    "    canvas.pack(side=\"left\", fill=\"both\", expand=True)\n",
    "    canvas.create_window((4,4), window=frame, anchor=\"nw\")\n",
    "\n",
    "    frame.bind(\"<Configure>\", lambda event, canvas=canvas: onFrameConfigure(canvas))\n",
    "\n",
    "    populate(frame)\n",
    "\n",
    "#     root.mainloop()\n",
    "    \n",
    "    \n",
    "win = tk.Tk()\n",
    "r = tk.Entry(win)\n",
    "b = tk.Button(win,command=lambda: newframe(win))\n",
    "r.grid(row=0,column=0)\n",
    "b.grid(row=1,column=0)\n",
    "win.mainloop()\n"
   ]
  },
  {
   "cell_type": "code",
   "execution_count": null,
   "metadata": {},
   "outputs": [],
   "source": [
    "import MySQLdb\n",
    "db = MySQLdb.connect(host=\"localhost\",user=\"root\",passwd=\"Bhumil2211\",db=\"jobs\")"
   ]
  },
  {
   "cell_type": "code",
   "execution_count": null,
   "metadata": {},
   "outputs": [],
   "source": [
    "cur = db.cursor()\n",
    "cur.execute(\"select * from job_details\")"
   ]
  },
  {
   "cell_type": "code",
   "execution_count": null,
   "metadata": {},
   "outputs": [],
   "source": [
    "root = tk.Tk()\n",
    "yScroll = tk.Scrollbar(root, orient=tk.VERTICAL)\n",
    "yScroll.grid(row=0, column=1, sticky=tk.N+tk.S)\n",
    "\n",
    "xScroll = tk.Scrollbar(root, orient=tk.HORIZONTAL)\n",
    "xScroll.grid(row=1, column=0, sticky=tk.E+tk.W)\n",
    "\n",
    "listbox = tk.Listbox(root,\n",
    "xscrollcommand=xScroll.set,\n",
    "yscrollcommand=yScroll.set)\n",
    "listbox.grid(row=0, column=0, sticky=tk.N+tk.S+tk.E+tk.W)\n",
    "xScroll['command'] = listbox.xview\n",
    "yScroll['command'] = listbox.yview\n",
    "root.mainloop()"
   ]
  },
  {
   "cell_type": "code",
   "execution_count": null,
   "metadata": {},
   "outputs": [],
   "source": [
    "s=10\n",
    "query = \"select * from job_details where experience like \\'\"+str(s)+\"%\\' or \\'%\"+str(s)+\"% or \\'%\"+str(s)+\"\\'\"\n",
    "print(query)"
   ]
  },
  {
   "cell_type": "code",
   "execution_count": null,
   "metadata": {},
   "outputs": [],
   "source": [
    "import tkinter as tk\n",
    "def newframe(root):\n",
    "    r.destroy()\n",
    "    b.destroy()\n",
    "#     load = tk.Frame(root)\n",
    "#     load.winfo_geometry()\n",
    "    label = tk.Text(root)\n",
    "    label.insert(tk.INSERT,\"loading\")\n",
    "#     load.pack(fill=\"both\", expand=True)\n",
    "    label.pack()\n",
    "\n",
    "win = tk.Tk()\n",
    "r = tk.Entry(win)\n",
    "b = tk.Button(win,command=lambda: newframe(win))\n",
    "r.grid(row=0,column=0)\n",
    "b.grid(row=1,column=0)\n",
    "win.mainloop()"
   ]
  },
  {
   "cell_type": "code",
   "execution_count": 1,
   "metadata": {},
   "outputs": [
    {
     "name": "stdout",
     "output_type": "stream",
     "text": [
      "hello\n",
      "hello\n",
      "hello\n"
     ]
    }
   ],
   "source": [
    "from tkinter import *\n",
    "\n",
    "root = Tk()\n",
    "\n",
    "def task():\n",
    "    print(\"hello\")\n",
    "    root.after(2000, task)  # reschedule event in 2 seconds\n",
    "\n",
    "root.after(2000, task)\n",
    "root.mainloop()"
   ]
  },
  {
   "cell_type": "code",
   "execution_count": 108,
   "metadata": {},
   "outputs": [
    {
     "name": "stdout",
     "output_type": "stream",
     "text": [
      "['8', '10']\n",
      "False\n"
     ]
    }
   ],
   "source": [
    "numbers = [\"1\",\"2\",\"3\",\"4\",\"5\",\"6\",\"7\",\"8\",\"9\",\"10\",\"11\",\"12\",\"13\",\"14\",\"15\"]\n",
    "check = [\"8 to 10 years\"]\n",
    "exp = 5\n",
    "y = False\n",
    "checklist=[0,0,0,0]\n",
    "k=0\n",
    "for j in numbers:\n",
    "    if check[0].find(str(j))!=-1:\n",
    "        checklist[k]=j\n",
    "        k=k+1\n",
    "try:\n",
    "    checklist.remove(0)\n",
    "except Exception:\n",
    "    pass\n",
    "x = len(checklist)\n",
    "for i in range(3,x+1):\n",
    "    checklist = checklist[:0]+checklist[1:]\n",
    "    print(checklist)\n",
    "if int(checklist[0])<=exp and int(checklist[1])>=exp:\n",
    "    y = True\n",
    "elif int(checklist[0])<=exp and int(checklist[1])<=exp:\n",
    "    y = True\n",
    "    \n",
    "print(y)"
   ]
  },
  {
   "cell_type": "code",
   "execution_count": null,
   "metadata": {},
   "outputs": [],
   "source": []
  }
 ],
 "metadata": {
  "kernelspec": {
   "display_name": "Python 3",
   "language": "python",
   "name": "python3"
  },
  "language_info": {
   "codemirror_mode": {
    "name": "ipython",
    "version": 3
   },
   "file_extension": ".py",
   "mimetype": "text/x-python",
   "name": "python",
   "nbconvert_exporter": "python",
   "pygments_lexer": "ipython3",
   "version": "3.5.2"
  }
 },
 "nbformat": 4,
 "nbformat_minor": 2
}
